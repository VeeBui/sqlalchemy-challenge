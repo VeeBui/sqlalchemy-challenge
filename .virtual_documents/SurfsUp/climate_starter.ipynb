%matplotlib inline
from matplotlib import style
style.use('fivethirtyeight')
import matplotlib.pyplot as plt



import numpy as np
import pandas as pd
import datetime as dt






# Python SQL toolkit and Object Relational Mapper
import sqlalchemy
from sqlalchemy.ext.automap import automap_base
from sqlalchemy.orm import Session
from sqlalchemy import create_engine, func



# Create engine using the `hawaii.sqlite` database file
engine = create_engine("sqlite:///Resources/hawaii.sqlite")



# Declare a Base using `automap_base()`
Base = automap_base()

# Use the Base class to reflect the database tables
Base.prepare(autoload_with=engine)


# Print all of the classes mapped to the Base
Base.classes.keys()


# Assign the measurement class to a variable called `Measurement` and
# assign the station class to a variable called `Station`
Measurement = Base.classes.measurement


# Create a session
session = Session(engine)





# Find the most recent date in the data set.
recent_date = session.query(Measurement.date).\
    order_by(Measurement.date.desc()).\
    first()[0]
recent_date


# Design a query to retrieve the last 12 months of precipitation data and plot the results.
# Starting from the most recent data point in the database.

# Calculate the date one year from the last date in data set.
date_12months = dt.datetime.strptime(recent_date,"%Y-%m-%d") - dt.timedelta(days=365)

# Perform a query to retrieve the data and precipitation scores
prcp_12months = session.query(Measurement.prcp, Measurement.date).\
    filter(func.strftime("%Y-%m-%d", Measurement.date) > date_12months).all()

# Save the query results as a Pandas DataFrame. Explicitly set the column names
df = pd.DataFrame(prcp_12months, columns=["Precipitation","Date"])
# casting to datetime from: https://stackoverflow.com/questions/17134716/convert-dataframe-column-type-from-string-to-datetime
df['Date'] = df['Date'].astype('datetime64[ns]')

# Sort the dataframe by date
df.sort_values(by=["Date"])

# Use Pandas Plotting with Matplotlib to plot the data
df.plot(x="Date",y="Precipitation")
plt.ylabel("Precipitation (mm)")
plt.title("Precipitation over the last 12 months")
plt.legend(loc="upper center")
plt.show()


# Use Pandas to calculate the summary statistics for the precipitation data
df["Precipitation"].describe()





# Design a query to calculate the total number of stations in the dataset
num_stations = session.query(Measurement.station).distinct().count()
num_stations


# Design a query to find the most active stations (i.e. which stations have the most rows?)
# List the stations and their counts in descending order.
station_counts = session.query(Measurement.station, func.count(Measurement.station)).\
    group_by(Measurement.station).\
    order_by(func.count(Measurement.station).desc()).\
    all()
station_counts


# Using the most active station id from the previous query, calculate the lowest, highest, and average temperature.
act_station = station_counts[0][0]

session.query(func.min(Measurement.tobs), func.max(Measurement.tobs), func.avg(Measurement.tobs)).\
    filter(Measurement.station == act_station).\
    all()


# Using the most active station id
# Query the last 12 months of temperature observation data for this station and plot the results as a histogram
act_station_12months = session.query(Measurement.tobs).\
    filter(Measurement.station == act_station).\
    filter(func.strftime("%Y-%m-%d", Measurement.date) > date_12months).\
    all()

# turn into df
df = pd.DataFrame(act_station_12months)

# plot as hist
df.hist(bins=12)

plt.xlabel("Temperature")
plt.ylabel("Frequency")
plt.title(f"Observed Temperature for Station %s over last 12 months" % (act_station))
plt.show()





# Close Session
session.close()



session = Session(engine)


# Find the most recent date in the data set.
recent_date = session.query(Measurement.date).\
    order_by(Measurement.date.desc()).\
    first()[0]

# Calculate the date one year from the last date in data set.
date_12months = dt.datetime.strptime(recent_date,"%Y-%m-%d") - dt.timedelta(days=365)

# Perform a query to retrieve the data and precipitation scores
prcp_12months = session.query(Measurement.date, Measurement.prcp, Measurement.station).\
    filter(func.strftime("%Y-%m-%d", Measurement.date) > date_12months).all()


session.close()

# Create dictionary
result = []
for date, prcp, stn in prcp_12months:
    if any(date in d for d in result):
        # append to existing dictionary
        (curr_i, date_dict) = next((i,d) for i,d in enumerate(result) if date in d)
        station_dict = date_dict[date]
        
        station_dict[stn] = prcp

        # replace existing dictionary
        result[curr_i] = date_dict
    else:
        prcp_dict = {}
        station_dict = {}

        # create new dictionary with station as key, precip as value
        station_dict[stn] = prcp

        # create new diction with date as key, station_dict as value
        prcp_dict[date] = station_dict
        
        result.append(prcp_dict)
    
    
result


(curr_i, curr_dict) = next((i,d) for i,d in enumerate(result) if '2016-08-25' in d)
curr_dict



